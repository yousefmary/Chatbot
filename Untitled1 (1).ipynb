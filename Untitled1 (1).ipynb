{
  "nbformat": 4,
  "nbformat_minor": 0,
  "metadata": {
    "colab": {
      "provenance": []
    },
    "kernelspec": {
      "name": "python3",
      "display_name": "Python 3"
    },
    "language_info": {
      "name": "python"
    }
  },
  "cells": [
    {
      "cell_type": "code",
      "execution_count": null,
      "metadata": {
        "colab": {
          "base_uri": "https://localhost:8080/"
        },
        "id": "y9Vt-GfXCa-E",
        "outputId": "e1e089c2-b4c0-4866-8d7b-3b93ee45b77e"
      },
      "outputs": [
        {
          "output_type": "stream",
          "name": "stdout",
          "text": [
            "welcome to simple chatbot!\n",
            "you can start chatting with me. Type 'bye' to exit.\n"
          ]
        }
      ],
      "source": [
        "import random\n",
        "responsees ={\n",
        "        \"Restaurant Name\": \"Bella Italia\",\n",
        "        \"Location\": \"123 Main St, XYZ\",\n",
        "        \"Category/Cuisine\": \"Italian\",\n",
        "        \"Menu Items\": [\"Spaghetti Carbonara\", \"Margherita Pizza\", \"Tiramisu\"],\n",
        "        \"Operating Hours\": \"Mon-Sat: 11am-10pm, Sun: 12pm-9pm\",\n",
        "        \"Contact Information\": {\"Phone\": \"(555) 123-4567\", \"Website\": \"www.bellaitalia.com\"},\n",
        "        \"Reviews and Ratings\": {\"Yelp\": 4.5, \"Google\": 4.6},\n",
        "        \"Price Range\": \"Moderate\",\n",
        "        \"Specials/Deals\": [\"Happy hour (Mon-Fri, 4pm-7pm)\"],\n",
        "        \"Reservation\": \"Yes\",\n",
        "        \"Delivery Options\": [\"Uber Eats\", \"DoorDash\"],\n",
        "        \"Payment Methods\": [\"Cash\", \"Credit Cards\"],\n",
        "        \"Ambiance/Atmosphere\": \"Casual\",\n",
        "        \"Additional Information\": \"Outdoor seating available, live music on weekends\"\n",
        "    }\n",
        "    # {\n",
        "    #     \"Restaurant Name\": \"Sushi Palace\",\n",
        "    #     \"Location\": \"456 Oak Ave, ABC\",\n",
        "    #     \"Category/Cuisine\": \"Japanese\",\n",
        "    #     \"Menu Items\": [\"California Roll\", \"Sashimi Platter\", \"Miso Soup\"],\n",
        "    #     \"Operating Hours\": \"Tue-Sun: 12pm-11pm\",\n",
        "    #     \"Contact Information\": {\"Phone\": \"(555) 987-6543\"},\n",
        "    #     \"Reviews and Ratings\": {\"Google\": 4.8},\n",
        "    #     \"Price Range\": \"Expensive\",\n",
        "    #     \"Specials/Deals\": [\"Sushi lunch specials\"],\n",
        "    #     \"Reservation\": \"Yes\",\n",
        "    #     \"Delivery Options\": [\"Uber Eats\"],\n",
        "    #     \"Payment Methods\": [\"Cash\", \"Credit Cards\"],\n",
        "    #     \"Ambiance/Atmosphere\": \"Fine Dining\",\n",
        "    #     \"Additional Information\": \"Reservations recommended for dinner\"\n",
        "    # },\n",
        "    # {\n",
        "    #     \"Restaurant Name\": \"La Taqueria\",\n",
        "    #     \"Location\": \"789 Elm St, DEF\",\n",
        "    #     \"Category/Cuisine\": \"Mexican\",\n",
        "    #     \"Menu Items\": [\"Tacos al Pastor\", \"Guacamole\", \"Horchata\"],\n",
        "    #     \"Operating Hours\": \"Mon-Sun: 10am-9pm\",\n",
        "    #     \"Contact Information\": {\"Phone\": \"(555) 333-4444\"},\n",
        "    #     \"Reviews and Ratings\": {\"Yelp\": 4.2},\n",
        "    #     \"Price Range\": \"Cheap\",\n",
        "    #     \"Specials/Deals\": [\"Taco Tuesday (half-price tacos)\"],\n",
        "    #     \"Reservation\": \"No\",\n",
        "    #     \"Delivery Options\": [\"Uber Eats\"],\n",
        "    #     \"Payment Methods\": [\"Cash only\"],\n",
        "    #     \"Ambiance/Atmosphere\": \"Casual\",\n",
        "    #     \"Additional Information\": \"Vegetarian options available\"\n",
        "    # }\n",
        "\n",
        "\n",
        "# Example usage:\n",
        "       # Output: ['California Roll', 'Sashimi Platter', 'Miso Soup']\n",
        "\n",
        "def get_response(user_input):\n",
        "  user_input = user_input.lower()\n",
        "  if user_input in responsees:\n",
        "       return random.choice(responsees[user_input])\n",
        "  else :\n",
        "       return \"I am very sorry,i did not understand that.\"\n",
        "def main():\n",
        "     print(\"welcome to simple chatbot!\")\n",
        "     print(\"you can start chatting with me. Type 'bye' to exit.\")\n",
        "\n",
        "     while True:\n",
        "       user_input = input(\"you: \")\n",
        "       if user_input.lower() == 'bye':\n",
        "          print(\"chatbot: goodbye!\")\n",
        "          break\n",
        "       else:\n",
        "           response = get_response(user_input)\n",
        "           print(\"chatbot:\",responsees)\n",
        "if __name__ ==\"__main__\":\n",
        "    main()"
      ]
    }
  ]
}